{
 "cells": [
  {
   "cell_type": "markdown",
   "metadata": {},
   "source": [
    "## Broadcasting in Python and other numpy stuff"
   ]
  },
  {
   "cell_type": "code",
   "execution_count": 1,
   "metadata": {},
   "outputs": [],
   "source": [
    "import numpy as np"
   ]
  },
  {
   "cell_type": "markdown",
   "metadata": {},
   "source": [
    "A is a 3 by 4 matrix:"
   ]
  },
  {
   "cell_type": "code",
   "execution_count": 6,
   "metadata": {},
   "outputs": [
    {
     "name": "stdout",
     "output_type": "stream",
     "text": [
      "[[ 1  2  3  4]\n",
      " [ 5  6  7  8]\n",
      " [ 7  8  9 10]]\n"
     ]
    }
   ],
   "source": [
    "A = np.array([[1, 2, 3, 4], [5, 6, 7, 8], [7, 8, 9, 10]])\n",
    "print(A)"
   ]
  },
  {
   "cell_type": "markdown",
   "metadata": {},
   "source": [
    "The columnwise and rowwise sum of A:"
   ]
  },
  {
   "cell_type": "code",
   "execution_count": 7,
   "metadata": {},
   "outputs": [
    {
     "name": "stdout",
     "output_type": "stream",
     "text": [
      "[13 16 19 22]\n",
      "[10 26 34]\n"
     ]
    }
   ],
   "source": [
    "colSum = A.sum(axis = 0)\n",
    "rowSum = A.sum(axis = 1)\n",
    "print(colSum)\n",
    "print(rowSum)"
   ]
  },
  {
   "cell_type": "markdown",
   "metadata": {},
   "source": [
    "More examples:"
   ]
  },
  {
   "cell_type": "code",
   "execution_count": 9,
   "metadata": {},
   "outputs": [
    {
     "name": "stdout",
     "output_type": "stream",
     "text": [
      "[100 200 300 400]\n"
     ]
    }
   ],
   "source": [
    "B = np.array([1, 2, 3, 4])\n",
    "print(B*100)"
   ]
  },
  {
   "cell_type": "code",
   "execution_count": 11,
   "metadata": {},
   "outputs": [
    {
     "name": "stdout",
     "output_type": "stream",
     "text": [
      "[[ 7.69 12.5  15.79 18.18]\n",
      " [38.46 37.5  36.84 36.36]\n",
      " [53.85 50.   47.37 45.45]]\n"
     ]
    }
   ],
   "source": [
    "print((100*A/colSum).round(2))"
   ]
  },
  {
   "cell_type": "markdown",
   "metadata": {},
   "source": [
    "Broadcasting a 1 x 3 array into a 2 x 3 one (D is getting broadcasted here):"
   ]
  },
  {
   "cell_type": "code",
   "execution_count": 13,
   "metadata": {},
   "outputs": [
    {
     "name": "stdout",
     "output_type": "stream",
     "text": [
      "[[101 202 303]\n",
      " [104 205 306]]\n"
     ]
    }
   ],
   "source": [
    "C = np.array([[1, 2, 3], [4, 5, 6]])\n",
    "D = np.array([100, 200, 300])\n",
    "print(C + D)"
   ]
  },
  {
   "cell_type": "code",
   "execution_count": 17,
   "metadata": {},
   "outputs": [
    {
     "name": "stdout",
     "output_type": "stream",
     "text": [
      "[[101 102 103]\n",
      " [204 205 206]]\n"
     ]
    }
   ],
   "source": [
    "print(np.array([[1, 2, 3], [4, 5, 6]]) + np.array([[100], [200]]))"
   ]
  },
  {
   "cell_type": "code",
   "execution_count": 18,
   "metadata": {},
   "outputs": [
    {
     "name": "stdout",
     "output_type": "stream",
     "text": [
      "[[101 102 103]\n",
      " [104 105 106]\n",
      " [107 108 109]]\n"
     ]
    }
   ],
   "source": [
    "print(np.array([[1, 2, 3], [4, 5, 6], [7, 8, 9]]) + 100)"
   ]
  },
  {
   "cell_type": "markdown",
   "metadata": {},
   "source": [
    "### What is Broadcasting\n",
    "- (m, n) + or - or * or / :\n",
    "    - (1, n) -> (m, n)\n",
    "    - (m, 1) -> (m, n)\n",
    "    - (1, 1) -> (m, n)"
   ]
  },
  {
   "cell_type": "code",
   "execution_count": 21,
   "metadata": {},
   "outputs": [
    {
     "name": "stdout",
     "output_type": "stream",
     "text": [
      "[[1]\n",
      " [2]\n",
      " [3]]\n",
      "[[1 2 3]]\n"
     ]
    }
   ],
   "source": [
    "X = np.array([[1], [2], [3]])\n",
    "print(X)\n",
    "print(X.T)"
   ]
  },
  {
   "cell_type": "markdown",
   "metadata": {},
   "source": [
    "## random"
   ]
  },
  {
   "cell_type": "code",
   "execution_count": 22,
   "metadata": {},
   "outputs": [
    {
     "name": "stdout",
     "output_type": "stream",
     "text": [
      "[-0.5337121  -0.94848289  0.36806707 -0.87712686  0.26099123] [-0.5337121  -0.94848289  0.36806707 -0.87712686  0.26099123]\n",
      "[[-0.93702753]\n",
      " [-0.42430956]\n",
      " [ 2.17368218]\n",
      " [ 0.44044727]\n",
      " [-0.10633354]] [[-0.93702753 -0.42430956  2.17368218  0.44044727 -0.10633354]]\n"
     ]
    }
   ],
   "source": [
    "a = np.random.randn(5) # this is a rank 1 vector (don't use it, it's wierd)\n",
    "b = np.random.randn(5, 1) # this is a 5 by 1 vector (use it, it's friendly)\n",
    "print(a, a.T)\n",
    "print(b, b.T)"
   ]
  },
  {
   "cell_type": "markdown",
   "metadata": {},
   "source": [
    "# assertion and reshape"
   ]
  },
  {
   "cell_type": "markdown",
   "metadata": {},
   "source": [
    "- assert: this is an inexpensive function which will halt the program if the given condition is false (throw an assertion error) it is usefull for debugging and making sure that some things are how we want them (for eg, there are no rank 1 vectors)\n",
    "- reshape: this will reshape the rank 1 array, a to a column vector"
   ]
  },
  {
   "cell_type": "code",
   "execution_count": 32,
   "metadata": {},
   "outputs": [
    {
     "data": {
      "text/plain": [
       "array([[-0.5337121 ],\n",
       "       [-0.94848289],\n",
       "       [ 0.36806707],\n",
       "       [-0.87712686],\n",
       "       [ 0.26099123]])"
      ]
     },
     "execution_count": 32,
     "metadata": {},
     "output_type": "execute_result"
    }
   ],
   "source": [
    "#assert(a.shape == (5, 1))\n",
    "assert(b.shape == (5, 1))\n",
    "a.reshape((5, 1))"
   ]
  }
 ],
 "metadata": {
  "interpreter": {
   "hash": "d7f607517fbded2211221c0b54aab66a5b7061bb364a6856b89fe210755712ec"
  },
  "kernelspec": {
   "display_name": "Python 3.9.7 64-bit",
   "name": "python3"
  },
  "language_info": {
   "codemirror_mode": {
    "name": "ipython",
    "version": 3
   },
   "file_extension": ".py",
   "mimetype": "text/x-python",
   "name": "python",
   "nbconvert_exporter": "python",
   "pygments_lexer": "ipython3",
   "version": "3.9.7"
  },
  "orig_nbformat": 4
 },
 "nbformat": 4,
 "nbformat_minor": 2
}
