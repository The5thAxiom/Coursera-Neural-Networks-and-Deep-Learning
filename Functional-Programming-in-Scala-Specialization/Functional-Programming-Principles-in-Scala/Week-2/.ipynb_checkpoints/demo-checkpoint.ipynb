{
 "cells": [
  {
   "cell_type": "markdown",
   "metadata": {},
   "source": []
  },
  {
   "cell_type": "markdown",
   "metadata": {},
   "source": [
    "# Higher Order Functions\n",
    "\n",
    "## Higher Order Functions\n",
    "- Functional languages treat functions like any other value and thus they can be returned as values and be passed as parameters\n",
    "- A function that takes as parameters or returns, a function is called a higher-order function\n",
    "- Eg 1: a function for sum of a function on all values between two numbers\n",
    "    ```scala\n",
    "    def id(x: Int): Int = x\n",
    "    def cube(x: Int): Int = x * x * x\n",
    "    def factorial(x: Int): Int = if x == 0 then 1 else x * factorial(x)\n",
    "\n",
    "    def sum(f: Int => Int, a: Int, b: Int): Int =\n",
    "        if a > b then 0\n",
    "        else f(a) + sum(f, a + 1, b)\n",
    "    ```\n",
    "- Function Types\n",
    "    - The type `A => B` is the type of a function which takes an argument of type A and returns a result of type B\n",
    "- Anonymous Functions\n",
    "    - Functinos without a name (no `def` used)\n",
    "    - Function literals (like string or Int literals)\n",
    "    - Eg 1: `(x: Int) => x * x * x`\n",
    "    - The type can be omitted if the compiler can infer it by context\n",
    "    - Anonymous functions are _syntactic sugar_, non-essential but nice to have (i disagree with the term, sugar is absolutely essential though) as they can be replaced by using a def\n",
    "    - Eg 2: (using the `sum` function defined above)\n",
    "        ```scala\n",
    "        def sumInts(a: Int, b: Int) = sum(x => x, a, b)\n",
    "        def sumCubes(a: Int, b: Int) = sum(x => x * x * x, a, b)\n",
    "        ```\n"
   ]
  },
  {
   "cell_type": "markdown",
   "metadata": {},
   "source": [
    "\n",
    "## Currying\n",
    "- Why: to reduce repetition of parameters accross many functions\n",
    "- Eg: rewriting the sum function\n",
    "    ```scala\n",
    "    def sum(f: Int => Int): (Int, Int) => Int =\n",
    "        def sumF(a: Int, b: Int): Int =\n",
    "            if a > b then 0\n",
    "            else f(a) + sumF(a + 1, b)\n",
    "        sumF\n",
    "    ```\n",
    "    - Here, sum returns a function and we can rewrite them as:\n",
    "        ```scala\n",
    "        def sumInts = sum(x => x)\n",
    "        def sumCubes = sum(x => x * x * x)\n",
    "        def sumFactorials = sum(factorial)\n",
    "\n",
    "        // they can be used \n",
    "        sumCubes(1, 10) // normally\n",
    "        ``` \n",
    "    - Now, (this is the fun part!), we can write them more simply:\n",
    "        ```scala\n",
    "        sum (cube) (1, 10)\n",
    "        /*\n",
    "        sum(cube) returns a function which takes 2 arguments, which are passed to it as (1, 10)\n",
    "        */\n",
    "        // if we use an anonymous function:\n",
    "        sum(x => x * x * x)(1, 10)\n",
    "        ```\n",
    "- Multiple parameter lists\n",
    "    - Currying, as done for the above example can get kinda clunky, so there is a special syntax in Scala for such functions:\n",
    "        ```scala\n",
    "        def sum(f: Int => Int)(a: Int, b: Int): Int =\n",
    "            if a > b then 0 else f(a) + sum(f)(a + 1, b)\n",
    "        ```\n",
    "    - `def f(ps1)(ps2)...(psn) = E` is equivalent to `def f =>(ps1 => (ps2 => ...(psn => E)))`\n",
    "    - In fact, we basically never need any parameters for a function, any function can just be a sequence of anonymous functions(each with a single parameter). This style of definition is called currying (named after ___Haskell Curry___ (the guy after which the language _Haskell_(the _daddy_(not exactly) of functional languages) was named!))\n",
    "- More function types:\n",
    "    - the sum function above (the curried one) has the type:\n",
    "    `(Int => Int) => ((Int, Int) => Int)` or simply `(Int => Int) => (Int, Int) => Int` (a function which takes _a function which takes an Int and returns an Int_, and returns a function which takes two Ints and returns an Int)\n",
    "    - `Int => (Int => Int)` is equivalent to `Int => Int => Int`"
   ]
  },
  {
   "cell_type": "code",
   "execution_count": null,
   "metadata": {},
   "outputs": [
    {
     "data": {
      "text/plain": [
       "Intitializing Scala interpreter ..."
      ]
     },
     "metadata": {},
     "output_type": "display_data"
    }
   ],
   "source": [
    "// basic functions needed\n",
    "def id(x: Int): Int = x\n",
    "def cube(x: Int): Int = x * x * x\n",
    "def factorial(x: Int): Int = if x == 0 then 1 else x * factorial(x)\n",
    "\n",
    "// curried sum\n",
    "def sum(f: Int => Int)(a: Int, b: Int): Int =\n",
    "    if a > b then 0 else f(a) + sum(f)(a + 1, b)\n",
    "\n",
    "// curried product\n",
    "def product(f: Int => Int)(a: Int, b: Int): Int =\n",
    "    if a > b then 1 else f(a) * product(f)(a + 1, b)\n",
    "\n",
    "// factorial in terms of the product function\n",
    "def factorial2(x: Int): Int = product(id)(1, x)\n",
    "\n",
    "// general function for both sum and product\n",
    "def general(f: (Int, Int) => Int, identitiyElement: Int)(g: Int => Int)(a: Int, b: Int): Int =\n",
    "    if a > b then identitiyElement else f(g(a), general(f, identitiyElement)(g)(a + 1, b))\n",
    "\n",
    "def product2(f: Int => Int) = general((x, y) => x * y, 1)(f)\n",
    "\n",
    "// factorial in terms of this general function\n",
    "def factorial3(x: Int): Int = general((a, b) => a * b, 1)(id)\n",
    "\n",
    "// OMG THIS WORKED!!!!!!\n",
    "\n",
    "// instructor's version of the general function:\n",
    "\n",
    "def mapReduce(f: Int => Int, combine: (Int, Int) => Int, zero: Int)(a: Int, b: Int) =\n",
    "    def recur(a: Int): Int =\n",
    "        if a > b then zero\n",
    "        else combine(f(a), recur(a + 1))\n",
    "    recur(a)"
   ]
  },
  {
   "cell_type": "code",
   "execution_count": null,
   "metadata": {},
   "outputs": [],
   "source": []
  }
 ],
 "metadata": {
  "kernelspec": {
   "display_name": "spylon-kernel",
   "language": "scala",
   "name": "spylon-kernel"
  },
  "language_info": {
   "codemirror_mode": "text/x-scala",
   "file_extension": ".scala",
   "help_links": [
    {
     "text": "MetaKernel Magics",
     "url": "https://metakernel.readthedocs.io/en/latest/source/README.html"
    }
   ],
   "mimetype": "text/x-scala",
   "name": "scala",
   "pygments_lexer": "scala",
   "version": "0.4.1"
  }
 },
 "nbformat": 4,
 "nbformat_minor": 2
}
